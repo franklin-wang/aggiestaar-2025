{
 "cells": [
  {
   "cell_type": "markdown",
   "id": "521754f7",
   "metadata": {},
   "source": [
    "# Python Basics\n",
    "\n",
    "In this section, we're going to go over some basics of Python. This is a slight step up from being COMPLETELY new to Python - I will assume you have a tiny bit of background knowledge. If you're completely new, I recommend going to a website like Khan Academy or Code Acaemy to get a grasp on your fundamentals.\n",
    "\n",
    "Python codes are traditionally executed from \".py\" files: you write some code, put it in a .py file, run the .py file, and the file will do what you coded up. However, that's not the easiest way to use Python. Folks typically use Python notebooks like these (.ipynb files): these are easier to interact with and edit, but take a little more setting up.\n",
    "\n",
    "If you're reading this, we've presumably set up Python on your computers, and have downloaded some sort of interface to use Python notebooks with. Most people use Jupyter (through Anaconda), I'm using a Microsoft software called VSCode. Use whatever you feel comfortable with, although I recommed Jupyter Notebooks since those are so widely used (and hopefully easier to troubleshoot). \n",
    "\n",
    "Instead of executing .py files, we interact with blocks of code in Python notebooks. Let's execute your first line of code. You may get a message asking what Python environment you want to use - click the Python environment that you installed numpy, matplotlib, and astropy to. You can install these modules by typing \"pip install [module name]\" into a terminal, but I will have a separate tutorial for installing modules.\n",
    "\n",
    "Code blocks can be thought of as mini .py files - each code block can contain your code and can be executed. Code blocks can also remember the output from code blocks that were executed before it, but be VERY CAREFUL OF THE ORDER THEY ARE EXECUTED IN!\n",
    "\n",
    "### Click on the block below, and press SHIFT + ENTER to execute it."
   ]
  },
  {
   "cell_type": "code",
   "execution_count": 1,
   "id": "34e38103",
   "metadata": {},
   "outputs": [
    {
     "name": "stdout",
     "output_type": "stream",
     "text": [
      "Howdy, world!\n"
     ]
    }
   ],
   "source": [
    "print(\"Howdy, world!\")"
   ]
  },
  {
   "cell_type": "markdown",
   "id": "09fa9926",
   "metadata": {},
   "source": [
    "## DATA TYPES & OPERATIONS\n",
    "\n",
    "Let's explore the different data types in Python. There are [many](https://docs.python.org/3/library/stdtypes.html) data types, but we'll focus on the ones that are most commonly used in astronomy:\n",
    "\n",
    "- strings  (text),\n",
    "- ints (integers),\n",
    "- and floats (decimals).\n",
    "\n",
    "Go through and execute the following blocks, and make sure you understand the differences between data types."
   ]
  },
  {
   "cell_type": "markdown",
   "id": "cf209e2e",
   "metadata": {},
   "source": [
    "### ints (integers)"
   ]
  },
  {
   "cell_type": "code",
   "execution_count": 1,
   "id": "c8ecf0dd",
   "metadata": {},
   "outputs": [
    {
     "name": "stdout",
     "output_type": "stream",
     "text": [
      "5 123 69\n"
     ]
    }
   ],
   "source": [
    "x = 5\n",
    "y = 123\n",
    "z = 69\n",
    "\n",
    "print(x, y, z)"
   ]
  },
  {
   "cell_type": "markdown",
   "id": "e028e1fb",
   "metadata": {},
   "source": [
    "### floats (floating point values)"
   ]
  },
  {
   "cell_type": "code",
   "execution_count": 2,
   "id": "a41d31b0",
   "metadata": {},
   "outputs": [
    {
     "name": "stdout",
     "output_type": "stream",
     "text": [
      "23.7 -4.2 30000000.0\n"
     ]
    }
   ],
   "source": [
    "i = 23.7\n",
    "j = -4.20\n",
    "k = 3e7\n",
    "\n",
    "print(i, j, k)"
   ]
  },
  {
   "cell_type": "markdown",
   "id": "6cdfd8f4",
   "metadata": {},
   "source": [
    "### strings (text, basically)"
   ]
  },
  {
   "cell_type": "code",
   "execution_count": 4,
   "id": "9c65a677",
   "metadata": {},
   "outputs": [
    {
     "name": "stdout",
     "output_type": "stream",
     "text": [
      "frank is cool 27 42.86\n"
     ]
    }
   ],
   "source": [
    "a = 'frank is cool'\n",
    "b = '27'\n",
    "c = '42.86'\n",
    "\n",
    "print(a, b, c)"
   ]
  },
  {
   "cell_type": "markdown",
   "id": "6eebb77c",
   "metadata": {},
   "source": [
    "One can convert in between data types using int(), str(), and float(). Try converting the variables b and c from the code block above into an integer and float respectively. You'll notice that you can now do arithmetic with the new variables d and e, when you couldn't do it before with variables b and c:"
   ]
  },
  {
   "cell_type": "code",
   "execution_count": 8,
   "id": "0d561fa6",
   "metadata": {},
   "outputs": [
    {
     "name": "stdout",
     "output_type": "stream",
     "text": [
      "variable d + variable e = 69.86\n",
      "variable b + variable c = 2742.86\n"
     ]
    }
   ],
   "source": [
    "d = int(b)\n",
    "e = float(c)\n",
    "\n",
    "print('variable d + variable e = %s' %(d+e))\n",
    "print('variable b + variable c = %s' %(b+c))"
   ]
  },
  {
   "cell_type": "markdown",
   "id": "558a7179",
   "metadata": {},
   "source": [
    "This also shows how adding string C to string B just tacks the characters in string C to the end of the characters in string B. \n",
    "\n",
    "Also, the \"%s\" operator formats strings: \"%s\" is replaced by whatever is within the %() brackets when printed. Explicitly, the string \"Howdy, %s\" %(world!) would be printed out as \"Howdy, world!\".\n",
    "\n",
    "That being said, there are limitations to what data types you can convert. Variable a contains no numbers: what happens when we try to convert that to a float? Execute the block below."
   ]
  },
  {
   "cell_type": "code",
   "execution_count": 9,
   "id": "c3900cc7",
   "metadata": {},
   "outputs": [
    {
     "ename": "ValueError",
     "evalue": "could not convert string to float: 'frank is cool'",
     "output_type": "error",
     "traceback": [
      "\u001b[0;31m---------------------------------------------------------------------------\u001b[0m",
      "\u001b[0;31mValueError\u001b[0m                                Traceback (most recent call last)",
      "Cell \u001b[0;32mIn[9], line 1\u001b[0m\n\u001b[0;32m----> 1\u001b[0m \u001b[38;5;28;43mfloat\u001b[39;49m\u001b[43m(\u001b[49m\u001b[43ma\u001b[49m\u001b[43m)\u001b[49m\n",
      "\u001b[0;31mValueError\u001b[0m: could not convert string to float: 'frank is cool'"
     ]
    }
   ],
   "source": [
    "float(a)"
   ]
  },
  {
   "cell_type": "markdown",
   "id": "9e0d5e73",
   "metadata": {},
   "source": [
    "One can check what data type a variable is using type():"
   ]
  },
  {
   "cell_type": "code",
   "execution_count": 22,
   "id": "59d7f012",
   "metadata": {},
   "outputs": [
    {
     "name": "stdout",
     "output_type": "stream",
     "text": [
      "<class 'str'> <class 'int'> <class 'float'>\n"
     ]
    }
   ],
   "source": [
    "print(type(a), type(z), type(i))"
   ]
  },
  {
   "cell_type": "markdown",
   "id": "f221c315",
   "metadata": {},
   "source": [
    "Moving on: we've briefly touched upon addition - what about other arithmetic operations? Here are the ones you will typically be using, although it helps to be aware of some of the [other operations](https://www.w3schools.com/python/gloss_python_arithmetic_operators.asp) too:\n",
    "\n",
    "- addition (+),\n",
    "- subtraction (-),\n",
    "- multiplication (*),\n",
    "- division (/),\n",
    "- exponents (**).\n",
    "\n",
    "Execute the code block below. Are all of the results exactly what you expect them to be?"
   ]
  },
  {
   "cell_type": "code",
   "execution_count": 18,
   "id": "86fef36b",
   "metadata": {},
   "outputs": [
    {
     "name": "stdout",
     "output_type": "stream",
     "text": [
      "x + y = 12.0\n",
      "x - y = 8.0\n",
      "x * y = 20.0\n",
      "x / y = 5.0\n",
      "x ** y = 100.0\n"
     ]
    }
   ],
   "source": [
    "x = 10.0\n",
    "y = 2.0\n",
    "\n",
    "print(\"x + y = %s\" %(x+y))\n",
    "print(\"x - y = %s\" %(x-y))\n",
    "print(\"x * y = %s\" %(x*y))\n",
    "print(\"x / y = %s\" %(x/y))\n",
    "print(\"x ** y = %s\" %(x**y))"
   ]
  },
  {
   "cell_type": "markdown",
   "id": "97c1111b",
   "metadata": {},
   "source": [
    "### EXERCISE 1\n",
    "\n",
    "Starting from the defined variables, calculate: (2x - y)/z."
   ]
  },
  {
   "cell_type": "code",
   "execution_count": 96,
   "id": "b8b42ee9",
   "metadata": {},
   "outputs": [],
   "source": [
    "x = '3.2'\n",
    "y = 2\n",
    "z = '1.5'\n",
    "\n",
    "#### YOUR SOLUTION HERE ###"
   ]
  },
  {
   "cell_type": "markdown",
   "id": "246a2f56",
   "metadata": {},
   "source": [
    "## LISTS\n",
    "\n",
    "Variables are great and all, but often we'll be working with a ton of variables. Here's where lists come into play: they are the simplest way to store a sequence of information."
   ]
  },
  {
   "cell_type": "code",
   "execution_count": 35,
   "id": "a75337a7",
   "metadata": {},
   "outputs": [
    {
     "name": "stdout",
     "output_type": "stream",
     "text": [
      "[1, 2, 3, 4, 5] ['a', 'b', 'c']\n"
     ]
    }
   ],
   "source": [
    "x = [1, 2, 3, 4, 5]\n",
    "y = ['a', 'b', 'c']\n",
    "print(x, y)"
   ]
  },
  {
   "cell_type": "markdown",
   "id": "b215948b",
   "metadata": {},
   "source": [
    "One can access items in a list by using square brackets ([]) and the 'index' of item they want to index. Remember that Python starts counting from 0, so the first item in a list is indexed by [0], the second is indexed by [1], and so on:"
   ]
  },
  {
   "cell_type": "code",
   "execution_count": 36,
   "id": "e42ada5d",
   "metadata": {},
   "outputs": [
    {
     "name": "stdout",
     "output_type": "stream",
     "text": [
      "a\n"
     ]
    }
   ],
   "source": [
    "print(y[0])"
   ]
  },
  {
   "cell_type": "markdown",
   "id": "f6096921",
   "metadata": {},
   "source": [
    "Indexing can also go backwards: -1 corresponds to the last element in the list."
   ]
  },
  {
   "cell_type": "code",
   "execution_count": 48,
   "id": "7f8c547f",
   "metadata": {},
   "outputs": [
    {
     "name": "stdout",
     "output_type": "stream",
     "text": [
      "5\n"
     ]
    }
   ],
   "source": [
    "print(x[-1])"
   ]
  },
  {
   "cell_type": "markdown",
   "id": "d28d0b48",
   "metadata": {},
   "source": [
    "You can modify lists by indexing, appending, or inserting:\n",
    "\n",
    "### indexing:\n",
    "\n",
    "You change the element at a certain index:"
   ]
  },
  {
   "cell_type": "code",
   "execution_count": 37,
   "id": "d36bb512",
   "metadata": {},
   "outputs": [
    {
     "name": "stdout",
     "output_type": "stream",
     "text": [
      "['a', 'd', 'c']\n"
     ]
    }
   ],
   "source": [
    "y[1] = 'd'\n",
    "\n",
    "print(y)"
   ]
  },
  {
   "cell_type": "markdown",
   "id": "052ec7cf",
   "metadata": {},
   "source": [
    "### appending:\n",
    "\n",
    "You append an element to the end of the list:"
   ]
  },
  {
   "cell_type": "code",
   "execution_count": 38,
   "id": "0e33b93f",
   "metadata": {},
   "outputs": [
    {
     "name": "stdout",
     "output_type": "stream",
     "text": [
      "['a', 'd', 'c', 'e']\n"
     ]
    }
   ],
   "source": [
    "y.append('e')\n",
    "\n",
    "print(y)"
   ]
  },
  {
   "cell_type": "markdown",
   "id": "e6eef652",
   "metadata": {},
   "source": [
    "### inserting:\n",
    "\n",
    "You insert an element at a certain index:"
   ]
  },
  {
   "cell_type": "code",
   "execution_count": 39,
   "id": "0e97a2e5",
   "metadata": {},
   "outputs": [
    {
     "name": "stdout",
     "output_type": "stream",
     "text": [
      "['f', 'a', 'd', 'c', 'e']\n"
     ]
    }
   ],
   "source": [
    "y.insert(0, 'f')\n",
    "\n",
    "print(y)"
   ]
  },
  {
   "cell_type": "markdown",
   "id": "d5f29fff",
   "metadata": {},
   "source": [
    "### the + operator:\n",
    "\n",
    "The \"+\" operator also acts as an append, when dealing with two lists. You can only add lists to lists, so be wary of the data type that you're using."
   ]
  },
  {
   "cell_type": "code",
   "execution_count": 55,
   "id": "a725bfe2",
   "metadata": {},
   "outputs": [
    {
     "name": "stdout",
     "output_type": "stream",
     "text": [
      "[1, 2, 3, 4, 5, 6]\n"
     ]
    }
   ],
   "source": [
    "a = [1, 2, 3]\n",
    "b = [4, 5, 6]\n",
    "print(a + b)"
   ]
  },
  {
   "cell_type": "markdown",
   "id": "9c7554af",
   "metadata": {},
   "source": [
    "### other list operations:\n",
    "\n",
    "One can check the length of a list using the len() function:"
   ]
  },
  {
   "cell_type": "code",
   "execution_count": 40,
   "id": "64484b57",
   "metadata": {},
   "outputs": [
    {
     "data": {
      "text/plain": [
       "5"
      ]
     },
     "execution_count": 40,
     "metadata": {},
     "output_type": "execute_result"
    }
   ],
   "source": [
    "len(y)"
   ]
  },
  {
   "cell_type": "markdown",
   "id": "7f85a8fe",
   "metadata": {},
   "source": [
    "One can also 'slice' a list - say, we only want the first 3 elements in the list x:"
   ]
  },
  {
   "cell_type": "code",
   "execution_count": 46,
   "id": "fa2c156f",
   "metadata": {},
   "outputs": [
    {
     "name": "stdout",
     "output_type": "stream",
     "text": [
      "Reminder, the original x is: [1, 2, 3, 4, 5]\n",
      "[1, 2, 3]\n"
     ]
    }
   ],
   "source": [
    "print(\"Reminder, the original x is: %s\"  %(x))\n",
    "print(x[0:3])"
   ]
  },
  {
   "cell_type": "markdown",
   "id": "7ae43bfa",
   "metadata": {},
   "source": [
    "The index \"0:3\" can be explicitly thought of as index 0 to index 3, not including index 3. In other words, we're slicing out the elements located at an index of 0, and index of 1, and an index of 2.\n",
    "\n",
    "We don't even have to have the first 0: we can just define the end point of 3:"
   ]
  },
  {
   "cell_type": "code",
   "execution_count": 49,
   "id": "85f58c75",
   "metadata": {},
   "outputs": [
    {
     "name": "stdout",
     "output_type": "stream",
     "text": [
      "[1, 2, 3]\n"
     ]
    }
   ],
   "source": [
    "print(x[:3])"
   ]
  },
  {
   "cell_type": "markdown",
   "id": "2b852089",
   "metadata": {},
   "source": [
    "Similarly, we can only define the start point:"
   ]
  },
  {
   "cell_type": "code",
   "execution_count": 51,
   "id": "e881d343",
   "metadata": {},
   "outputs": [
    {
     "name": "stdout",
     "output_type": "stream",
     "text": [
      "[3, 4, 5]\n"
     ]
    }
   ],
   "source": [
    "print(x[2:])"
   ]
  },
  {
   "cell_type": "markdown",
   "id": "6a4231c1",
   "metadata": {},
   "source": [
    "## ARRAYS\n",
    "\n",
    "Next, let's take a look at **arrays**. I like to think of these as lists on steroids: they're functionally similar, but you can perform many more operations on them. To use arrays, one should first import the numpy module. We installed numpy in tutorial 0 - if you run into an error when running the code block before, let me know or review the 0th tutorial."
   ]
  },
  {
   "cell_type": "code",
   "execution_count": 56,
   "id": "2df37527",
   "metadata": {},
   "outputs": [],
   "source": [
    "import numpy as np"
   ]
  },
  {
   "cell_type": "markdown",
   "id": "47844e66",
   "metadata": {},
   "source": [
    "When we write \"import numpy as np\", we are creating a 'shortcut' - instead of calling \"numpy\" every single time whenever we want to use a numpy function, we can just write \"np\". \n",
    "\n",
    "One can create an array with np.array() - if you put a list in the middle of those brackets, you create an array. "
   ]
  },
  {
   "cell_type": "code",
   "execution_count": 57,
   "id": "fd920904",
   "metadata": {},
   "outputs": [
    {
     "name": "stdout",
     "output_type": "stream",
     "text": [
      "[1 2 3 4 5]\n"
     ]
    }
   ],
   "source": [
    "x = [1, 2, 3, 4, 5]\n",
    "y = np.array(x)\n",
    "print(y)"
   ]
  },
  {
   "cell_type": "markdown",
   "id": "35ed54a9",
   "metadata": {},
   "source": [
    "We can modify arrays in similar ways to lists - by indexing, appending, or inserting:\n",
    "\n",
    "### indexing:"
   ]
  },
  {
   "cell_type": "code",
   "execution_count": null,
   "id": "dc801279",
   "metadata": {},
   "outputs": [
    {
     "name": "stdout",
     "output_type": "stream",
     "text": [
      "[1 4 3]\n"
     ]
    }
   ],
   "source": [
    "a = np.array([1, 2, 3])\n",
    "a[1] = 4\n",
    "\n",
    "print(a)"
   ]
  },
  {
   "cell_type": "markdown",
   "id": "73ccecfa",
   "metadata": {},
   "source": [
    "### appending:\n",
    "\n",
    "with np.append(), you put the two arrays you want to append to each other in the brackets."
   ]
  },
  {
   "cell_type": "code",
   "execution_count": 62,
   "id": "c54bdea8",
   "metadata": {},
   "outputs": [
    {
     "name": "stdout",
     "output_type": "stream",
     "text": [
      "[1 2 3 4 5 6]\n"
     ]
    }
   ],
   "source": [
    "a = np.array([1, 2, 3])\n",
    "b = np.array([4, 5, 6])\n",
    "\n",
    "c = np.append(a, b)\n",
    "\n",
    "print(c)"
   ]
  },
  {
   "cell_type": "markdown",
   "id": "e8151a37",
   "metadata": {},
   "source": [
    "### inserting:\n",
    "\n",
    "with np.insert, you need: (1) the array, (2) the index where you want to insert something, and (3) the value you want to insert. Explicitly, this is used as: np.insert(array, index, element to insert)."
   ]
  },
  {
   "cell_type": "code",
   "execution_count": 64,
   "id": "878f3275",
   "metadata": {},
   "outputs": [
    {
     "name": "stdout",
     "output_type": "stream",
     "text": [
      "[3 4 5 6]\n"
     ]
    }
   ],
   "source": [
    "a = np.array([4, 5, 6])\n",
    "b = np.insert(a, 0, 3)\n",
    "print(b)"
   ]
  },
  {
   "cell_type": "markdown",
   "id": "40722155",
   "metadata": {},
   "source": [
    "NOTE! Arrays do not work exactly like lists! Remember that list_A + list_B = [contents of list_A, contents of list_B]. What happens when we try to do that with an array?"
   ]
  },
  {
   "cell_type": "code",
   "execution_count": 65,
   "id": "8c242e1d",
   "metadata": {},
   "outputs": [
    {
     "name": "stdout",
     "output_type": "stream",
     "text": [
      "[5 7 9]\n"
     ]
    }
   ],
   "source": [
    "x = np.array([1, 2, 3])\n",
    "y = np.array([4, 5, 6])\n",
    "\n",
    "print(x + y)"
   ]
  },
  {
   "cell_type": "markdown",
   "id": "e926816d",
   "metadata": {},
   "source": [
    "Instead of adding all elements of y to the end of x, arrays add together the first element of x and y, the second element of x and y, the third element of x and y, and store those results in a single array. \n",
    "\n",
    "This means that other operations will work on arrays. Take a look at the arrays below - are the results what you expect?"
   ]
  },
  {
   "cell_type": "code",
   "execution_count": 66,
   "id": "8106bc62",
   "metadata": {},
   "outputs": [
    {
     "name": "stdout",
     "output_type": "stream",
     "text": [
      "[12 22 32]\n",
      "[ 8 18 28]\n",
      "[20 40 60]\n",
      "[ 5. 10. 15.]\n"
     ]
    }
   ],
   "source": [
    "c = np.array([10, 20, 30])\n",
    "d = np.array([2, 2, 2])\n",
    "\n",
    "print(c + d)\n",
    "print(c - d)\n",
    "print(c * d)\n",
    "print(c / d)"
   ]
  },
  {
   "cell_type": "markdown",
   "id": "d37ed825",
   "metadata": {},
   "source": [
    "Hopefully this is a good demonstration of why numpy is such a powerful tool: we can perform mathematical operations quickly and seamlessly. We're not limited to addition, subtraction, multiplication, and division either - let's experiment with the following:\n",
    "\n",
    "- The sum of all elements in an array, using np.sum()\n",
    "- Averages of all elements in an array, using np.mean() or np.median()\n",
    "- The minimum and maximum elements in an array, using np.min() or np.max()\n",
    "- The standard deviation of the elements in an array, using np.std()"
   ]
  },
  {
   "cell_type": "code",
   "execution_count": 73,
   "id": "94a95b2c",
   "metadata": {},
   "outputs": [
    {
     "name": "stdout",
     "output_type": "stream",
     "text": [
      "sum of x = 55\n",
      "mean of x = 5.5\n",
      "median of x = 5.5\n",
      "min. of x = 1\n",
      "max. of x = 10\n",
      "std. of x = 2.8722813232690143\n"
     ]
    }
   ],
   "source": [
    "x = np.array([1, 2, 3, 4, 5, 6, 7, 8, 9, 10])\n",
    "\n",
    "print('sum of x = %s' %(np.sum(x)))\n",
    "print('mean of x = %s' %(np.mean(x)))\n",
    "print('median of x = %s' %(np.median(x)))\n",
    "print('min. of x = %s' %(np.min(x)))\n",
    "print('max. of x = %s' %(np.max(x)))\n",
    "print('std. of x = %s' %(np.std(x)))"
   ]
  },
  {
   "cell_type": "markdown",
   "id": "49325c1d",
   "metadata": {},
   "source": [
    "Lastly, it's good to know how to create arrays - two common ways are np.linspace and np.arange. Play around with these, but be paitent. These two operations are very useful, but it takes a couple of practical applications to understand how and why they're used.\n",
    "\n",
    "### np.linspace(start, end, number of points in between):"
   ]
  },
  {
   "cell_type": "code",
   "execution_count": 76,
   "id": "94bc0077",
   "metadata": {},
   "outputs": [
    {
     "data": {
      "text/plain": [
       "array([ 1.,  2.,  3.,  4.,  5.,  6.,  7.,  8.,  9., 10.])"
      ]
     },
     "execution_count": 76,
     "metadata": {},
     "output_type": "execute_result"
    }
   ],
   "source": [
    "np.linspace(1, 10, 10)"
   ]
  },
  {
   "cell_type": "markdown",
   "id": "2488bff9",
   "metadata": {},
   "source": [
    "### np.arange(start, end, step size):"
   ]
  },
  {
   "cell_type": "code",
   "execution_count": 77,
   "id": "002924ed",
   "metadata": {},
   "outputs": [
    {
     "data": {
      "text/plain": [
       "array([ 1,  2,  3,  4,  5,  6,  7,  8,  9, 10])"
      ]
     },
     "execution_count": 77,
     "metadata": {},
     "output_type": "execute_result"
    }
   ],
   "source": [
    "np.arange(1, 11, 1)"
   ]
  },
  {
   "cell_type": "markdown",
   "id": "01edeab1",
   "metadata": {},
   "source": [
    "**A last note**: what I've shown above does not even begin to scratch the surface of what numpy can do. Chances are you'll run into an operation you don't recognize. If this happens, just google it: numpy is likely the most widely used Python module, is incredibly well documented, and you will most likely be able to find your answer online or in the numpy documentation. Additionally, if there's a mathematical operation that you don't want to code - try looking it up on numpy first, there's a good chance it exists."
   ]
  },
  {
   "cell_type": "markdown",
   "id": "099f9769",
   "metadata": {},
   "source": [
    "### EXERCISE 2\n",
    "\n",
    "To complete this exercise, make sure that astropy is installed and can be imported into Python. Also make sure that this notebook is in the same folder as \"hetmgs_tab1_clean.txt\"."
   ]
  },
  {
   "cell_type": "code",
   "execution_count": 97,
   "id": "06eb0b66",
   "metadata": {},
   "outputs": [],
   "source": [
    "# RUN THIS BLOCK OF CODE\n",
    "from astropy.io import ascii\n",
    "data = ascii.read('./hetmgs_tab1_clean.txt')\n",
    "dispersions = np.array(data['sigma'])"
   ]
  },
  {
   "cell_type": "markdown",
   "id": "e4bff97e",
   "metadata": {},
   "source": [
    "It is suspected that nearly every single massive galaxy hosts a central supermassive black hole (SMBH) at its center. One way of obtaining a rough estimate of the SMBH's mass is to measure the galaxy's central velocity dispersion: this is a measurement of how randomly the stars are moving at the center of the galaxy.\n",
    "\n",
    "In this exercise, you will look at velocity dispersion measurements from [van den Bosch et al. 2016](https://ui.adsabs.harvard.edu/abs/2015ApJS..218...10V/abstract). This paper surveyed ~1200 local galaxies and measured their central velocity dispersions from long-slit spectroscopy, using the Hobby Eberly Telescope at the McDonald Observatory. The dispersions are saved in a variable called \"dispersions\".\n",
    "\n",
    "#### PART (A): calculate the median dispersion measured by van den Bosch et al. 2016:"
   ]
  },
  {
   "cell_type": "code",
   "execution_count": 99,
   "id": "956b0fd5",
   "metadata": {},
   "outputs": [],
   "source": [
    "### YOUR ANSWER HERE"
   ]
  },
  {
   "cell_type": "markdown",
   "id": "dbc22924",
   "metadata": {},
   "source": [
    "#### PART (B): Find $\\log_{10}$(median dispersion)\n",
    "\n",
    "Note! Numpy has two functions that calculate logarithims: np.log, and np.log10. Which one should you use?"
   ]
  },
  {
   "cell_type": "code",
   "execution_count": 104,
   "id": "efa62dbc",
   "metadata": {},
   "outputs": [],
   "source": [
    "### YOUR ANSWER HERE"
   ]
  },
  {
   "cell_type": "markdown",
   "id": "1e029413",
   "metadata": {},
   "source": [
    "#### PART (C): Going to a SMBH mass from a velocity dispersion\n",
    "\n",
    "In order to go to a SMBH mass from a velocity dispersion, one should refer to what are known as scaling relations. Scaling relations are indicative of very weird connections between SMBHs and their host galaxies, but that's a conversation for another time. What you need to know for this exercise: the scaling relation between SMBH mass and central velocity dispersion has been measured many times, but it changes slightly depending on the input assumptions.\n",
    "\n",
    "[Saglia et al. 2016](https://ui.adsabs.harvard.edu/abs/2016ApJ...818...47S/abstract) contains a fairly up-to-date list of scaling relations, based on the most recent black hole mass measurements. Here are two of the scaling relations that they found:\n",
    "\n",
    "- $\\log_{10}(M_{\\rm{BH}}) = 4.772\\cdot\\log_{10}(\\sigma) - 2.476$, if we consider ONLY SMBHs in cored elliptical galaxies.\n",
    "- $\\log_{10}(M_{\\rm{BH}}) = 2.192\\cdot\\log_{10}(\\sigma) + 2.526$, if we consider ONLY SMBHs in galaxies with pseudobulges.\n",
    "\n",
    "In both equations, $\\sigma$ is the velocity dispersion, and $M_{\\rm{BH}}$ is the SMBH mass. With this information, find:\n",
    "\n",
    "#### (C, i): The SMBH mass from the mean van den Bosch et al. 2016 dispersion, with both scaling relations.\n"
   ]
  },
  {
   "cell_type": "code",
   "execution_count": 103,
   "id": "db409cd9",
   "metadata": {},
   "outputs": [],
   "source": [
    "### YOUR ANSWER HERE"
   ]
  },
  {
   "cell_type": "markdown",
   "id": "e3e3ca4f",
   "metadata": {},
   "source": [
    "#### (C, ii): The SMBH mass from the smallest van den Bosch et al. 2016 dispersion, with both scaling relations."
   ]
  },
  {
   "cell_type": "code",
   "execution_count": 107,
   "id": "38c6f719",
   "metadata": {},
   "outputs": [],
   "source": [
    "### YOUR ANSWER HERE"
   ]
  },
  {
   "cell_type": "markdown",
   "id": "22e97f8e",
   "metadata": {},
   "source": [
    "#### (C, iii): The mean SMBH mass from ALL van den Bosch et al. 2016 dispersions, with both scaling relations.\n",
    "\n",
    "Here, you should be calculating the SMBH mass that EACH van den Bosch et al. 2016 velocity dispersion corresponds to (using both scaling relations), and then finding the mean of the array of SMBH masses."
   ]
  },
  {
   "cell_type": "code",
   "execution_count": 110,
   "id": "bbba3f36",
   "metadata": {},
   "outputs": [],
   "source": [
    "### YOUR ANSWER HERE"
   ]
  }
 ],
 "metadata": {
  "kernelspec": {
   "display_name": "base",
   "language": "python",
   "name": "python3"
  },
  "language_info": {
   "codemirror_mode": {
    "name": "ipython",
    "version": 3
   },
   "file_extension": ".py",
   "mimetype": "text/x-python",
   "name": "python",
   "nbconvert_exporter": "python",
   "pygments_lexer": "ipython3",
   "version": "3.10.9"
  }
 },
 "nbformat": 4,
 "nbformat_minor": 5
}
