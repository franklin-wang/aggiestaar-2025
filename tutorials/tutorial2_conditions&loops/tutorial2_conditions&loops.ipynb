{
 "cells": [
  {
   "cell_type": "markdown",
   "id": "eb424535",
   "metadata": {},
   "source": [
    "## Conditions and Loops\n",
    "\n",
    "In this section, we're going to cover conditions (true or false?) and loops. Astronomy is a very data-driven science, and being able to apply conditions and use loops are both essential to sorting through data and searching for information. Want to find stars that are a certain color? Need to parse through thousands of galaxies? Hopefully you'll learn how to do so in this tutorial.\n",
    "\n",
    "### Conditions\n",
    "\n",
    "Python is capable of applying logical mathemtical conditions:\n",
    "\n",
    "- Equals: a == b,\n",
    "- Does not equal: a != b\n",
    "- Less than: a < b\n",
    "- Less than or equal to: a <= b\n",
    "- Greater than: a > b\n",
    "- Greater than or equal to: a >= b\n",
    "\n",
    "You can evaulate any of these expressions - they'll spit out what's called a boolean. Booleans are one of two things: True or False. Try running the blocks below to get an idea of how conditions and booleans work:\n"
   ]
  },
  {
   "cell_type": "code",
   "execution_count": 2,
   "id": "c57f9e50",
   "metadata": {},
   "outputs": [
    {
     "name": "stdout",
     "output_type": "stream",
     "text": [
      "False\n",
      "True\n"
     ]
    }
   ],
   "source": [
    "x = 1\n",
    "y = 2\n",
    "\n",
    "print(x > y)\n",
    "print(x < y)"
   ]
  },
  {
   "cell_type": "code",
   "execution_count": 3,
   "id": "4d0bb77b",
   "metadata": {},
   "outputs": [
    {
     "name": "stdout",
     "output_type": "stream",
     "text": [
      "False\n",
      "True\n",
      "True\n"
     ]
    }
   ],
   "source": [
    "a = 5\n",
    "b = 10\n",
    "\n",
    "print(a == b)\n",
    "print(a != b)\n",
    "print(a + 5 == b)"
   ]
  },
  {
   "cell_type": "markdown",
   "id": "ecf6d9b5",
   "metadata": {},
   "source": [
    "### if statements\n",
    "\n",
    "Now, enter the 'if' statement. In short, an 'if' statement will do something IF a condition is True. Here's an example if statement:"
   ]
  },
  {
   "cell_type": "code",
   "execution_count": 4,
   "id": "2ad148c3",
   "metadata": {},
   "outputs": [
    {
     "name": "stdout",
     "output_type": "stream",
     "text": [
      "i is greater than j\n"
     ]
    }
   ],
   "source": [
    "i = 5\n",
    "j = 3\n",
    "\n",
    "if i > j:\n",
    "    print(\"i is greater than j\")"
   ]
  },
  {
   "cell_type": "markdown",
   "id": "00467afb",
   "metadata": {},
   "source": [
    "Note that the indentation is absolutely essential. Python should automatically indent for you (if you have typed in the colon \":\" after the condition). If it doesn't, you can create the indent by pressing the TAB key. Here's an example of what happens when you don't have the indent:"
   ]
  },
  {
   "cell_type": "code",
   "execution_count": 5,
   "id": "4a66cb41",
   "metadata": {},
   "outputs": [
    {
     "ename": "IndentationError",
     "evalue": "expected an indented block after 'if' statement on line 4 (3612439517.py, line 5)",
     "output_type": "error",
     "traceback": [
      "\u001b[0;36m  Cell \u001b[0;32mIn[5], line 5\u001b[0;36m\u001b[0m\n\u001b[0;31m    print(\"i is greater than j\")\u001b[0m\n\u001b[0m    ^\u001b[0m\n\u001b[0;31mIndentationError\u001b[0m\u001b[0;31m:\u001b[0m expected an indented block after 'if' statement on line 4\n"
     ]
    }
   ],
   "source": [
    "i = 5\n",
    "j = 3\n",
    "\n",
    "if i > j:\n",
    "print(\"i is greater than j\")"
   ]
  },
  {
   "cell_type": "markdown",
   "id": "4b011618",
   "metadata": {},
   "source": [
    "### elif statements\n",
    "\n",
    "On their own, if statements are a little clunky. One can give them a lot more flexibility with the \"elif\" statement - short for \"else if\". This is Python's way of saying: if the previous condition is not True, then try this. Here's an example: "
   ]
  },
  {
   "cell_type": "code",
   "execution_count": 6,
   "id": "9341b7b9",
   "metadata": {},
   "outputs": [
    {
     "name": "stdout",
     "output_type": "stream",
     "text": [
      "howdy does not equal hello\n"
     ]
    }
   ],
   "source": [
    "a = 'howdy'\n",
    "b = 'hello'\n",
    "\n",
    "if a == b:\n",
    "    print('howdy = hello')\n",
    "elif a != b:\n",
    "    print('howdy does not equal hello')"
   ]
  },
  {
   "cell_type": "markdown",
   "id": "1f46a8fb",
   "metadata": {},
   "source": [
    "Walking you through what just happened: we first checked if the string \"howdy\" was exactly like the string \"hello\" with the first if statement. Python found that this was False, so it moved onto the \"elif\" statement. The code then checked if the string \"howdy\" was NOT equal to the string \"hello\", which Python of course found to be true. Because this second condition was satisfied, we printed the statement \"howdy does not equal hello\"."
   ]
  },
  {
   "cell_type": "markdown",
   "id": "4b811ffc",
   "metadata": {},
   "source": [
    "### else statements\n",
    "\n",
    "'else' statements can be thought of as blanket statements: if any of the above isn't True, go to the \"else\" statement. I like to think of \"else\" statements as Python's way of saying \"everything else\". Here's an example:"
   ]
  },
  {
   "cell_type": "code",
   "execution_count": null,
   "id": "4e29b0c4",
   "metadata": {},
   "outputs": [
    {
     "name": "stdout",
     "output_type": "stream",
     "text": [
      "x is not negative, and it is smaller than y.\n"
     ]
    }
   ],
   "source": [
    "x = 10\n",
    "y = 42\n",
    "\n",
    "if x < 0:\n",
    "    print('x is negative')\n",
    "elif x > y:\n",
    "    print('x is greater than y')\n",
    "else:\n",
    "    print('x is not negative, and it is smaller than y.')"
   ]
  },
  {
   "cell_type": "markdown",
   "id": "8338cdd3",
   "metadata": {},
   "source": [
    "Again, to explain what happened: the first 'if' statement was not True and the second 'elif' statement was not True. No condition was True, so the code moved to the 'else' statement.\n",
    "\n",
    "By the way, we don't actually need the second 'elif' statement for the 'else' statement to work:"
   ]
  },
  {
   "cell_type": "code",
   "execution_count": 10,
   "id": "20a187c5",
   "metadata": {},
   "outputs": [
    {
     "name": "stdout",
     "output_type": "stream",
     "text": [
      "x is less than y\n"
     ]
    }
   ],
   "source": [
    "x = 10\n",
    "y = 42\n",
    "\n",
    "if x > y:\n",
    "    print('x is greater than y')\n",
    "else:\n",
    "    print('x is less than y')"
   ]
  },
  {
   "cell_type": "markdown",
   "id": "de361dc5",
   "metadata": {},
   "source": [
    "### More logical operators\n",
    "\n",
    "Python is capable of implementing other logical operators to give you even more flexibility:\n",
    "\n",
    "- 'and' keyword: 2 conditions must be satisfied to be True.\n",
    "- 'or' keyword: 1 of 2 conditions must be satisfied to be True.\n",
    "- 'in' keyword: checks if an element is present in an object.\n",
    "\n",
    "#### 'and' keyword:"
   ]
  },
  {
   "cell_type": "code",
   "execution_count": 11,
   "id": "19787e29",
   "metadata": {},
   "outputs": [
    {
     "name": "stdout",
     "output_type": "stream",
     "text": [
      "x is less than y and greater than zero.\n"
     ]
    }
   ],
   "source": [
    "x = 10\n",
    "y = 42\n",
    "\n",
    "if x < y and x > 0:\n",
    "    print('x is less than y and greater than zero.')\n",
    "else:\n",
    "    print('condition above not satisfied.')"
   ]
  },
  {
   "cell_type": "markdown",
   "id": "dbbdfd9d",
   "metadata": {},
   "source": [
    "#### 'or' keyword:"
   ]
  },
  {
   "cell_type": "code",
   "execution_count": 13,
   "id": "9979a65a",
   "metadata": {},
   "outputs": [
    {
     "name": "stdout",
     "output_type": "stream",
     "text": [
      "x = y OR x is greater than 0.\n"
     ]
    }
   ],
   "source": [
    "x = 10\n",
    "y = 42\n",
    "\n",
    "if x == y or x > 0:\n",
    "    print('x = y OR x is greater than 0.')\n",
    "else:\n",
    "    print('NEITHER condition above was satisfied.')"
   ]
  },
  {
   "cell_type": "markdown",
   "id": "9745b45a",
   "metadata": {},
   "source": [
    "#### 'in' keyword:"
   ]
  },
  {
   "cell_type": "code",
   "execution_count": 14,
   "id": "97bbd31c",
   "metadata": {},
   "outputs": [
    {
     "name": "stdout",
     "output_type": "stream",
     "text": [
      "frank is indeed cool\n"
     ]
    }
   ],
   "source": [
    "truth = 'frank is cool'\n",
    "\n",
    "if 'cool' in truth:\n",
    "    print('frank is indeed cool')\n",
    "else:\n",
    "    print(\"frank isn't not cool so this statement won't be printed\")"
   ]
  },
  {
   "cell_type": "markdown",
   "id": "a924f3dd",
   "metadata": {},
   "source": [
    "The 'in' keyword works for lists too. This can be very helpful when trying to search for something in a very long list!"
   ]
  },
  {
   "cell_type": "code",
   "execution_count": 15,
   "id": "4983b094",
   "metadata": {},
   "outputs": [
    {
     "name": "stdout",
     "output_type": "stream",
     "text": [
      "grape is not in our list of fruits.\n"
     ]
    }
   ],
   "source": [
    "fruits = ['banana', 'orange', 'tomato', 'apple']\n",
    "\n",
    "if 'grape' in fruits:\n",
    "    print('grape is in the list of fruits')\n",
    "else:\n",
    "    print('grape is not in our list of fruits.')"
   ]
  },
  {
   "cell_type": "markdown",
   "id": "41a3be4f",
   "metadata": {},
   "source": [
    "### EXERCISE 1\n",
    "\n",
    "Below is a list. \n",
    "\n",
    "(A) If the number 21 OR the string \"T.U\" is in the list, print \"YES\". Otherwise, print \"NO\". \n",
    "\n",
    "(B) There is only one number in the list, check if the number is greater than or equal to 15.5. Index the list, do not type out the number!\n",
    "\n",
    "Remember that Python starts counting from 0!"
   ]
  },
  {
   "cell_type": "code",
   "execution_count": 29,
   "id": "b9151f92",
   "metadata": {},
   "outputs": [],
   "source": [
    "temp = ['kyle', 'field', 'home', 'of', 'the', 12, 'th man', 'BTHO', 'T.U']\n",
    "\n",
    "#### YOUR SOLUTION HERE ###"
   ]
  },
  {
   "cell_type": "markdown",
   "id": "3db9a3ae",
   "metadata": {},
   "source": [
    "### Loops\n",
    "\n",
    "Loops in Python are used to repeat actions efficiently. One could just copy and paste lines of code - this would work for a small number of actions, but often we need to repeat hundreds of actions! \n",
    "\n",
    "### while loops\n",
    "\n",
    "Let's first take a look at **while** loops. While loops are based on conditions: the actions within a while loop will continue provided a condition is true. Lines of code are considered to be 'inside' a loop if they're indented, just like 'if' and 'else' statements. Here's an example:"
   ]
  },
  {
   "cell_type": "code",
   "execution_count": 8,
   "id": "7eea9db7",
   "metadata": {},
   "outputs": [
    {
     "name": "stdout",
     "output_type": "stream",
     "text": [
      "0\n",
      "1\n",
      "2\n",
      "3\n",
      "4\n",
      "5\n"
     ]
    }
   ],
   "source": [
    "i = 0\n",
    "\n",
    "while i <= 5:\n",
    "    print(i)\n",
    "    i = i + 1"
   ]
  },
  {
   "cell_type": "markdown",
   "id": "9b8d3350",
   "metadata": {},
   "source": [
    "Let's take a look at what happened here:\n",
    "1. We first defined i = 0.\n",
    "2. We then intialized the while loop. We told the while loop to keep going as long as i is less than or equal to 5.\n",
    "3. We first printed what 'i' is [print(i)].\n",
    "4. We then added 1 to i [i = i + 1]. \n",
    "\n",
    "When we added 1 to i, we reached the end of the while loop. The code checked if the statement \"i <= 5\" was True, and found that it was. \n",
    "\n",
    "The code then restarted from \"print(i)\" - it LOOPED back to the start of the while statement! \n",
    "\n",
    "The loop continued until i = 5. At this point, it printed 'i' - we see the '5' in the output. It then added 1 to i, giving us 6. This no longer satisfied our specified condition of i <= 5, so the loop ended.\n",
    "\n",
    "To more explicitly see the loop ending, we can combine the while loop above with an else statement:"
   ]
  },
  {
   "cell_type": "code",
   "execution_count": 9,
   "id": "14550a8d",
   "metadata": {},
   "outputs": [
    {
     "name": "stdout",
     "output_type": "stream",
     "text": [
      "0\n",
      "1\n",
      "2\n",
      "3\n",
      "4\n",
      "5\n",
      "i = 6\n",
      "i > 5, so the loop is ending.\n"
     ]
    }
   ],
   "source": [
    "i = 0\n",
    "\n",
    "while i <= 5:\n",
    "    print(i)\n",
    "    i = i + 1\n",
    "else:\n",
    "    print('i = %s' %i)\n",
    "    print('i > 5, so the loop is ending.')"
   ]
  },
  {
   "cell_type": "markdown",
   "id": "7b10677c",
   "metadata": {},
   "source": [
    "### infinite while loops\n",
    "\n",
    "Be careful when using while loops: you can get stuck if you never write in a line that breaks the while loop. Here's an example:"
   ]
  },
  {
   "cell_type": "code",
   "execution_count": null,
   "id": "d5d4eaf9",
   "metadata": {},
   "outputs": [],
   "source": [
    "frank_cool_counter = 0\n",
    "\n",
    "while frank_cool_counter >= 0:\n",
    "    print('frank is so cool')"
   ]
  },
  {
   "cell_type": "markdown",
   "id": "8c71f2cc",
   "metadata": {},
   "source": [
    "This while loop will ALWAYS keep going if the frank_cool_counter is greater than or equal to 0. We specified that the frank_cool_counter = 1, so this condition is True. We never specify anything in the while loop to change the frank_cool_counter or make frank_cool_counter become negative, so this condition will ALWAYS be True, and you will have an infinite loop.\n",
    "\n",
    "If this happens, don't worry - mistakes happen! Jupyter has a kill switch at the top: clicking the black square (like the stop button on a remote) will force stop the code block. You can also force quit Jupyter, if that takes a long time to respond.\n",
    "\n",
    "**Kill the block, change frank_cool_counter to be a negative number, and then re-execute the code block. This will clear all outputs so you can continue with the tutorial.**"
   ]
  },
  {
   "cell_type": "markdown",
   "id": "cd3962c0",
   "metadata": {},
   "source": [
    "### for loops\n",
    "\n",
    "For loops are used to sequentially parse through lists, arrays, or strings. They work with the 'for' and 'in' statements: think of these loops doing an action FOR every element IN a list. As before, here is an example:"
   ]
  },
  {
   "cell_type": "code",
   "execution_count": 3,
   "id": "34d0bb8b",
   "metadata": {},
   "outputs": [
    {
     "name": "stdout",
     "output_type": "stream",
     "text": [
      "beat\n",
      "the\n",
      "hell\n",
      "outta\n",
      "T.U\n",
      "whoop\n"
     ]
    }
   ],
   "source": [
    "yell = ['beat', 'the', 'hell', 'outta', 'T.U', 'whoop']\n",
    "\n",
    "for x in yell:\n",
    "    print(x)"
   ]
  },
  {
   "cell_type": "markdown",
   "id": "d19de5c2",
   "metadata": {},
   "source": [
    "Here, 'x' is what's known as a dummy variable. Basically, what happened here: FOR each element (x) in the list 'yell', we printed the element (x). You should be very careful calling 'x' anywhere outside of the for loop - 'x' is overwritten every time the loop restarts, so only the last 'x' in the list 'yell' will be saved.\n",
    "\n",
    "\n",
    "### EXERCISE 2\n",
    "\n",
    "Let's practice using both while and for loops.\n",
    "\n",
    "(A): Use a for loop to parse through 'listA'. Check if each element in 'listB' is less than or equal to 30.\n",
    "\n",
    "(B): Do the same thing, except using a while loop. To parse through a list with a while loop, you should parse through the list indicies. It helps to remember how to index elements in a list (see tutorial 1). One can find the last index in a list using len(list) - this will give you the length of the list, and thus the last index in the list."
   ]
  },
  {
   "cell_type": "code",
   "execution_count": 31,
   "id": "bfd83200",
   "metadata": {},
   "outputs": [],
   "source": [
    "listA = [22.5, 31.3, 19.2, 55.7]\n",
    "\n",
    "#### YOUR SOLUTION HERE ###"
   ]
  },
  {
   "cell_type": "markdown",
   "id": "44502cd1",
   "metadata": {},
   "source": [
    "### Nested loops\n",
    "\n",
    "Python allows for loops to be placed within loops: these are called nested loops. Let's see a practical example:"
   ]
  },
  {
   "cell_type": "code",
   "execution_count": 8,
   "id": "82837937",
   "metadata": {},
   "outputs": [
    {
     "name": "stdout",
     "output_type": "stream",
     "text": [
      "nested loop begins\n",
      "this\n",
      "is\n",
      "going\n",
      "to\n",
      "print\n",
      "first\n",
      "nested loop begins\n",
      "then\n",
      "this\n",
      "will\n",
      "print\n"
     ]
    }
   ],
   "source": [
    "sentence = [['this', 'is', 'going', 'to', 'print', 'first'], ['then', 'this', 'will', 'print']]\n",
    "\n",
    "for lists in sentence:\n",
    "    print('nested loop begins')\n",
    "    for x in lists:\n",
    "        print(x)"
   ]
  },
  {
   "cell_type": "markdown",
   "id": "2b9057ec",
   "metadata": {},
   "source": [
    "Breaking this down: the list 'sentence' contains two lists, let's call these lists listA and listB. Explicitly,\n",
    "\n",
    "- listA = ['this', 'is', 'going', 'to', 'print', 'first']\n",
    "- listB = ['then', 'this', 'will', 'print']\n",
    "\n",
    "We initialize the first for loop. This for loop will go through 'lists' in 'sentence': it recognizes listA and listB.\n",
    "\n",
    "We then print \"nested loop begins\" right before the nested loop is going to start.\n",
    "\n",
    "The nested loop is then initialized: it goes through 'x' in 'lists'. The first thing in 'lists' is listA, so the code goes through every element in listA (namely: 'this', 'is', 'going', 'to', 'print', 'first').\n",
    "\n",
    "The nested loop ends, and we go back to the first loop. \"nested loop begins\" is printed, and then the code goes through all 'x' in listB (namely: 'then', 'this', 'will', 'print').\n",
    "\n",
    "Take note of the indentation: instead of one TAB, the code within the nested loop has to be TAB'd twice.\n",
    "\n",
    "One can also combine a while and a for loop, and vice versa - you are not limited to a single kind of loop when nesting loops. Take your time to understand nested loops. They can be very confusing to begin with, but they are incredibly useful."
   ]
  },
  {
   "cell_type": "markdown",
   "id": "142b8169",
   "metadata": {},
   "source": [
    "### Combining if statements\n",
    "\n",
    "Another incredibly useful tool is combining if statements with loops. This is a great technique to quickly sort through data. Let's take a look:"
   ]
  },
  {
   "cell_type": "code",
   "execution_count": 9,
   "id": "9f3adacf",
   "metadata": {},
   "outputs": [
    {
     "name": "stdout",
     "output_type": "stream",
     "text": [
      "[5.5, 6.2, 9.9]\n"
     ]
    }
   ],
   "source": [
    "total_data = [5.5, 6.2, 3.3, 9.9]\n",
    "\n",
    "good_data = []\n",
    "\n",
    "for x in total_data:\n",
    "    if x >= 5:\n",
    "        good_data.append(x)\n",
    "\n",
    "print(good_data)"
   ]
  },
  {
   "cell_type": "markdown",
   "id": "48eee762",
   "metadata": {},
   "source": [
    "While looping through the elements in 'total_data', we can specify an if statement to enforce a condition. You will play around with how this works in the exercise below.\n",
    "\n",
    "### EXERCISE 3\n",
    "\n",
    "To complete this exercise, make sure that astropy is installed and can be imported into Python. Also make sure that this notebook is in the same folder as \"rv2015.txt\"."
   ]
  },
  {
   "cell_type": "code",
   "execution_count": 27,
   "id": "87142be5",
   "metadata": {},
   "outputs": [],
   "source": [
    "# RUN THIS BLOCK OF CODE\n",
    "from astropy.io import ascii\n",
    "data = ascii.read('./rv2015.txt')\n",
    "sdss_names = data['SDSS']\n",
    "Mbh = data['logMBH']\n",
    "z = data['z']"
   ]
  },
  {
   "cell_type": "markdown",
   "id": "8662b45d",
   "metadata": {},
   "source": [
    "Right now, it's not entirely clear where supermassive black holes came from. A knee-jerk reaction is to say they grew over billions of years, starting from stellar-mass black holes that arise from the deaths of the first stars in our Universe. However, recent observations from the James Webb Space Telescope have found supermassive black holes at high redshifts - in other words, black holes that weigh the same as several billion suns are found only a few hundred million years after the Big Bang. So, the question still stands: where did supermassive black holes come from, and how did they grow so quickly?\n",
    "\n",
    "One solution proposes to look for 'intermediate' mass black holes: instead of coming from stellar-mass black hole seeds, supermassive black holes originate from black holes ~10,000 times the mass of our Sun. The problem with this solution is that intermediate mass black holes are extremely challenging to detect: the typical signatures that are used to find supermassive black holes are much weaker in their intermediate-mass counterparts.\n",
    "\n",
    "Large surveys have identified some candidates. The problem with large surveys is that they often cannot spend an extensive amount of time on each individual object - the measurements made by large surveys are more uncertain. What we CAN do is follow up on the results of large surveys in much greater detail.\n",
    "\n",
    "One of the more famous collections of low-mass black holes can be found in Reines and Volonteri 2015 (https://ui.adsabs.harvard.edu/abs/2015ApJ...813...82R/abstract). In this exercise, you will parse through their data, and determine which black holes are worth following up on.\n",
    "\n",
    "**We are largely interested in the lowest mass black holes that are very nearby. Write a code that finds the SDSS names of the black holes that have a black hole mass of less than $10^{5.5}\\, M_{\\odot}$, and redshifts $z < 0.03$**. \n",
    "\n",
    "You should use the pre-defined variables: sdss_names gives you a list of the SDSS names of the galaxies these black holes are in, Mbh gives you the black hole masses, and z gives you their redshifts."
   ]
  },
  {
   "cell_type": "code",
   "execution_count": 32,
   "id": "faf871ff",
   "metadata": {},
   "outputs": [],
   "source": [
    "### YOUR SOLUTIONS HERE"
   ]
  }
 ],
 "metadata": {
  "kernelspec": {
   "display_name": "base",
   "language": "python",
   "name": "python3"
  },
  "language_info": {
   "codemirror_mode": {
    "name": "ipython",
    "version": 3
   },
   "file_extension": ".py",
   "mimetype": "text/x-python",
   "name": "python",
   "nbconvert_exporter": "python",
   "pygments_lexer": "ipython3",
   "version": "3.10.9"
  }
 },
 "nbformat": 4,
 "nbformat_minor": 5
}
