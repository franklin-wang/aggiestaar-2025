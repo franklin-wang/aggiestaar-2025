{
 "cells": [
  {
   "cell_type": "markdown",
   "id": "bd187ba6",
   "metadata": {},
   "source": [
    "# Reading in files and astropy tables\n",
    "\n",
    "In astronomy, data is often saved in a table, and most online journals provide the option to download those tables as text files. It's really important to know how to open those tables and extract information from them. We have already read in several tables over the course of these tutorials, and now we're going to learn how to do it ourselves.\n",
    "\n",
    "Now, there are several ways to read in tables: I know that numpy has several built in routines, and you may have heard of pandas too. If you already know how to use those, and find those easier to use, then go right ahead and stick with those. I, however, personally love using astropy tables - I think they are user-friendly and straightforward, IF the table you are trying to read in is properly formatted. Generally speaking, most of the tables you download from major journals (like ApJ or MNRAS) can be read in pretty easily by astropy, but sometimes you will have to go into the table's text file and format it manually. Python's open() routine can be used as a last resort if none of your table-reading modules work: this routine opens and reads text files line by line. open() will work for any kind of table, but it is very rudimentary and you will have to put in a lot more work to format things nicely.\n",
    "\n",
    "This tutorial will be a little different to the previous ones, and we will work through a real table from a real paper. The example we will work with is Table 4 from the following Next Generation Virgo Survey (NGVS) paper (https://ui.adsabs.harvard.edu/abs/2020ApJS..250...17L/abstract). This paper is about a survey for ultracompact dwarf galaxies in the Virgo galaxy cluster.\n",
    "\n",
    "Let's start by loading in the modules that we need:"
   ]
  },
  {
   "cell_type": "code",
   "execution_count": 1,
   "id": "63501fb5",
   "metadata": {},
   "outputs": [],
   "source": [
    "import numpy as np\n",
    "import matplotlib.pyplot as plt\n",
    "from astropy.io import ascii\n",
    "from astropy.table import Table"
   ]
  },
  {
   "cell_type": "markdown",
   "id": "236600e8",
   "metadata": {},
   "source": [
    "### Reading in a table\n",
    "\n",
    "In order to read in the table, we need to specify the table file's directory path. If the file is in the same directory as your Python file/notebook, one can use './table_name.txt' (here './' points to the same directory as the Python file). Otherwise, you will need to use your terminal to determine what the path is.\n",
    "\n",
    "One can read in the table using the astropy ascii.read() routine:"
   ]
  },
  {
   "cell_type": "code",
   "execution_count": 2,
   "id": "a0026353",
   "metadata": {},
   "outputs": [
    {
     "data": {
      "text/html": [
       "<div><i>Table length=828</i>\n",
       "<table id=\"table140682873162528\" class=\"table-striped table-bordered table-condensed\">\n",
       "<thead><tr><th>Name</th><th>MB</th><th>MV</th><th>rh</th><th>e_rh</th><th>Mstar</th><th>HRV</th><th>r_HRV</th><th>Class</th><th>Envelope</th><th>Method</th><th>OName</th></tr></thead>\n",
       "<thead><tr><th></th><th>mag</th><th>mag</th><th>pc</th><th>pc</th><th>dex(Msun)</th><th>km / s</th><th></th><th></th><th></th><th></th><th></th></tr></thead>\n",
       "<thead><tr><th>str11</th><th>float64</th><th>float64</th><th>float64</th><th>float64</th><th>float64</th><th>int64</th><th>str33</th><th>int64</th><th>int64</th><th>str2</th><th>str19</th></tr></thead>\n",
       "<tr><td>NGVS-UCD1</td><td>-11.62</td><td>-11.38</td><td>14.03</td><td>0.39</td><td>6.5</td><td>-38</td><td>SDSS</td><td>5</td><td>0</td><td>m1</td><td>--</td></tr>\n",
       "<tr><td>NGVS-UCD2</td><td>-9.68</td><td>-9.21</td><td>29.86</td><td>0.76</td><td>6.3</td><td>--</td><td>--</td><td>1</td><td>0</td><td>m5</td><td>--</td></tr>\n",
       "<tr><td>NGVS-UCD3</td><td>-9.27</td><td>-8.76</td><td>15.34</td><td>0.38</td><td>6.1</td><td>--</td><td>--</td><td>1</td><td>0</td><td>m5</td><td>--</td></tr>\n",
       "<tr><td>NGVS-UCD4</td><td>-9.7</td><td>-9.27</td><td>29.48</td><td>0.54</td><td>6.2</td><td>--</td><td>--</td><td>1</td><td>0</td><td>m5</td><td>--</td></tr>\n",
       "<tr><td>NGVS-UCD5</td><td>-9.33</td><td>-8.8</td><td>22.44</td><td>0.28</td><td>6.1</td><td>--</td><td>--</td><td>3</td><td>0</td><td>m5</td><td>--</td></tr>\n",
       "<tr><td>NGVS-UCD6</td><td>-9.36</td><td>-8.93</td><td>24.29</td><td>1.07</td><td>6.0</td><td>--</td><td>--</td><td>1</td><td>0</td><td>m5</td><td>--</td></tr>\n",
       "<tr><td>NGVS-UCD7</td><td>-9.4</td><td>-8.97</td><td>24.51</td><td>0.37</td><td>6.1</td><td>--</td><td>--</td><td>1</td><td>0</td><td>m5</td><td>--</td></tr>\n",
       "<tr><td>NGVS-UCD8</td><td>-9.41</td><td>-8.95</td><td>23.33</td><td>0.37</td><td>6.2</td><td>--</td><td>--</td><td>1</td><td>0</td><td>m5</td><td>--</td></tr>\n",
       "<tr><td>NGVS-UCD9</td><td>-9.3</td><td>-8.8</td><td>25.0</td><td>0.68</td><td>6.2</td><td>--</td><td>--</td><td>1</td><td>0</td><td>m5</td><td>--</td></tr>\n",
       "<tr><td>...</td><td>...</td><td>...</td><td>...</td><td>...</td><td>...</td><td>...</td><td>...</td><td>...</td><td>...</td><td>...</td><td>...</td></tr>\n",
       "<tr><td>NGVS-UCD820</td><td>-9.3</td><td>-8.82</td><td>23.83</td><td>0.37</td><td>6.1</td><td>--</td><td>--</td><td>1</td><td>0</td><td>m5</td><td>--</td></tr>\n",
       "<tr><td>NGVS-UCD821</td><td>-9.58</td><td>-9.59</td><td>30.57</td><td>1.13</td><td>5.3</td><td>220</td><td>SIMBAD</td><td>1</td><td>0</td><td>m1</td><td>--</td></tr>\n",
       "<tr><td>NGVS-UCD822</td><td>-9.37</td><td>-8.72</td><td>11.44</td><td>0.24</td><td>6.4</td><td>1194</td><td>SIMBAD</td><td>1</td><td>0</td><td>m1</td><td>--</td></tr>\n",
       "<tr><td>NGVS-UCD823</td><td>-9.26</td><td>-8.61</td><td>12.13</td><td>0.28</td><td>6.4</td><td>2140</td><td>SIMBAD</td><td>1</td><td>0</td><td>m1</td><td>--</td></tr>\n",
       "<tr><td>NGVS-UCD824</td><td>-10.06</td><td>-9.67</td><td>16.08</td><td>0.07</td><td>6.3</td><td>2365</td><td>SIMBAD</td><td>6</td><td>0</td><td>m1</td><td>VCC-980</td></tr>\n",
       "<tr><td>NGVS-UCD825</td><td>-9.5</td><td>-8.78</td><td>19.77</td><td>0.74</td><td>6.6</td><td>777</td><td>SIMBAD</td><td>1</td><td>0</td><td>m1</td><td>--</td></tr>\n",
       "<tr><td>NGVS-UCD826</td><td>-9.32</td><td>-8.62</td><td>11.57</td><td>0.32</td><td>6.4</td><td>867</td><td>SIMBAD</td><td>1</td><td>0</td><td>m1</td><td>--</td></tr>\n",
       "<tr><td>NGVS-UCD827</td><td>-10.29</td><td>-9.63</td><td>19.86</td><td>0.57</td><td>6.8</td><td>971</td><td>SIMBAD</td><td>1</td><td>0</td><td>m1</td><td>--</td></tr>\n",
       "<tr><td>NGVS-UCD828</td><td>-10.06</td><td>-9.45</td><td>31.5</td><td>0.75</td><td>6.6</td><td>952</td><td>SIMBAD</td><td>1</td><td>0</td><td>m1</td><td>--</td></tr>\n",
       "</table></div>"
      ],
      "text/plain": [
       "<Table length=828>\n",
       "    Name       MB      MV      rh     e_rh  ... Class Envelope Method  OName \n",
       "              mag     mag      pc      pc   ...                              \n",
       "   str11    float64 float64 float64 float64 ... int64  int64    str2   str19 \n",
       "----------- ------- ------- ------- ------- ... ----- -------- ------ -------\n",
       "  NGVS-UCD1  -11.62  -11.38   14.03    0.39 ...     5        0     m1      --\n",
       "  NGVS-UCD2   -9.68   -9.21   29.86    0.76 ...     1        0     m5      --\n",
       "  NGVS-UCD3   -9.27   -8.76   15.34    0.38 ...     1        0     m5      --\n",
       "  NGVS-UCD4    -9.7   -9.27   29.48    0.54 ...     1        0     m5      --\n",
       "  NGVS-UCD5   -9.33    -8.8   22.44    0.28 ...     3        0     m5      --\n",
       "  NGVS-UCD6   -9.36   -8.93   24.29    1.07 ...     1        0     m5      --\n",
       "  NGVS-UCD7    -9.4   -8.97   24.51    0.37 ...     1        0     m5      --\n",
       "  NGVS-UCD8   -9.41   -8.95   23.33    0.37 ...     1        0     m5      --\n",
       "  NGVS-UCD9    -9.3    -8.8    25.0    0.68 ...     1        0     m5      --\n",
       "        ...     ...     ...     ...     ... ...   ...      ...    ...     ...\n",
       "NGVS-UCD820    -9.3   -8.82   23.83    0.37 ...     1        0     m5      --\n",
       "NGVS-UCD821   -9.58   -9.59   30.57    1.13 ...     1        0     m1      --\n",
       "NGVS-UCD822   -9.37   -8.72   11.44    0.24 ...     1        0     m1      --\n",
       "NGVS-UCD823   -9.26   -8.61   12.13    0.28 ...     1        0     m1      --\n",
       "NGVS-UCD824  -10.06   -9.67   16.08    0.07 ...     6        0     m1 VCC-980\n",
       "NGVS-UCD825    -9.5   -8.78   19.77    0.74 ...     1        0     m1      --\n",
       "NGVS-UCD826   -9.32   -8.62   11.57    0.32 ...     1        0     m1      --\n",
       "NGVS-UCD827  -10.29   -9.63   19.86    0.57 ...     1        0     m1      --\n",
       "NGVS-UCD828  -10.06   -9.45    31.5    0.75 ...     1        0     m1      --"
      ]
     },
     "execution_count": 2,
     "metadata": {},
     "output_type": "execute_result"
    }
   ],
   "source": [
    "data = ascii.read('./ngvs_ucd_tab4.txt')\n",
    "data"
   ]
  },
  {
   "cell_type": "markdown",
   "id": "a519ce3b",
   "metadata": {},
   "source": [
    "ascii.read() creates a Table object. Python will usually only display a truncated version of this table: you can view the whole thing with .pprint_all() (in our case, we saved the table into the 'data' variable, so we would use \"data.pprint_all()\" to view the entire table).  \n",
    "\n",
    "### Extracting information from a table\n",
    "\n",
    "Let's extract some information from the table. To index a row, one would type in data[row number] - index rows just like you would index a list or an array, remember to start counting from 0! To index a column, one would type in data['column name']. A lot of tables will not come with column names, if this is the case you will most likely see 'col1', 'col2', 'col3'... as column headers.\n",
    "\n",
    "Let's index the first row of the table, as well as the the stellar mass column (column name: Mstar) and half-light radius column (column name: rh)."
   ]
  },
  {
   "cell_type": "code",
   "execution_count": 3,
   "id": "34629095",
   "metadata": {},
   "outputs": [
    {
     "name": "stdout",
     "output_type": "stream",
     "text": [
      "   Name     MB     MV     rh  e_rh   Mstar    HRV   r_HRV Class Envelope Method OName\n",
      "           mag    mag     pc   pc  dex(Msun) km / s                                  \n",
      "--------- ------ ------ ----- ---- --------- ------ ----- ----- -------- ------ -----\n",
      "NGVS-UCD1 -11.62 -11.38 14.03 0.39       6.5    -38  SDSS     5        0     m1    --\n"
     ]
    }
   ],
   "source": [
    "first_row = data[0]\n",
    "print(first_row)"
   ]
  },
  {
   "cell_type": "code",
   "execution_count": 4,
   "id": "f73b6844",
   "metadata": {},
   "outputs": [
    {
     "name": "stdout",
     "output_type": "stream",
     "text": [
      "  Mstar  \n",
      "dex(Msun)\n",
      "---------\n",
      "      6.5\n",
      "      6.3\n",
      "      6.1\n",
      "      6.2\n",
      "      6.1\n",
      "      6.0\n",
      "      6.1\n",
      "      6.2\n",
      "      6.2\n",
      "      ...\n",
      "      6.8\n",
      "      6.1\n",
      "      5.3\n",
      "      6.4\n",
      "      6.4\n",
      "      6.3\n",
      "      6.6\n",
      "      6.4\n",
      "      6.8\n",
      "      6.6\n",
      "Length = 828 rows\n"
     ]
    }
   ],
   "source": [
    "stellar_mass = data['Mstar']\n",
    "print(stellar_mass)"
   ]
  },
  {
   "cell_type": "code",
   "execution_count": 5,
   "id": "66a23af6",
   "metadata": {},
   "outputs": [
    {
     "name": "stdout",
     "output_type": "stream",
     "text": [
      "  rh \n",
      "  pc \n",
      "-----\n",
      "14.03\n",
      "29.86\n",
      "15.34\n",
      "29.48\n",
      "22.44\n",
      "24.29\n",
      "24.51\n",
      "23.33\n",
      " 25.0\n",
      "  ...\n",
      "12.48\n",
      "23.83\n",
      "30.57\n",
      "11.44\n",
      "12.13\n",
      "16.08\n",
      "19.77\n",
      "11.57\n",
      "19.86\n",
      " 31.5\n",
      "Length = 828 rows\n"
     ]
    }
   ],
   "source": [
    "radius = data['rh']\n",
    "print(radius)"
   ]
  },
  {
   "cell_type": "markdown",
   "id": "fcc48567",
   "metadata": {},
   "source": [
    "We created variables stellar_mass and radius to hold the stellar mass and radius columns, which are Column objects. In my experience, I have found that Column objects can be treated in a similar way to numpy arrays, but it's good practice to convert them to be actual arrays. One can do this with np.array(COLUMN). After doing so, one can perform any regular numpy mathematical operation on the column."
   ]
  },
  {
   "cell_type": "markdown",
   "id": "fb4ccc79",
   "metadata": {},
   "source": [
    "### Adding constraints to a table\n",
    "\n",
    "Often, we're interested in certain subsets of a table: what if we want to look at only the largest UCDs (in radii)? Astropy tables have functions that make constraints easy to apply. Let's say we want to focus on UCDs with a radius of >50 parsecs:"
   ]
  },
  {
   "cell_type": "code",
   "execution_count": null,
   "id": "f99c7a0f",
   "metadata": {},
   "outputs": [
    {
     "data": {
      "text/html": [
       "<div><i>Table length=23</i>\n",
       "<table id=\"table140258897063856\" class=\"table-striped table-bordered table-condensed\">\n",
       "<thead><tr><th>Name</th><th>MB</th><th>MV</th><th>rh</th><th>e_rh</th><th>Mstar</th><th>HRV</th><th>r_HRV</th><th>Class</th><th>Envelope</th><th>Method</th><th>OName</th></tr></thead>\n",
       "<thead><tr><th></th><th>mag</th><th>mag</th><th>pc</th><th>pc</th><th>dex(Msun)</th><th>km / s</th><th></th><th></th><th></th><th></th><th></th></tr></thead>\n",
       "<thead><tr><th>str11</th><th>float64</th><th>float64</th><th>float64</th><th>float64</th><th>float64</th><th>int64</th><th>str33</th><th>int64</th><th>int64</th><th>str2</th><th>str19</th></tr></thead>\n",
       "<tr><td>NGVS-UCD10</td><td>-11.8</td><td>-11.39</td><td>65.92</td><td>0.72</td><td>7.0</td><td>--</td><td>--</td><td>3</td><td>0</td><td>m5</td><td>--</td></tr>\n",
       "<tr><td>NGVS-UCD43</td><td>-11.95</td><td>-11.51</td><td>52.91</td><td>1.22</td><td>7.2</td><td>--</td><td>--</td><td>3</td><td>0</td><td>m5</td><td>--</td></tr>\n",
       "<tr><td>NGVS-UCD93</td><td>--</td><td>--</td><td>91.28</td><td>6.85</td><td>8.9</td><td>2074</td><td>VCC,NED</td><td>2</td><td>0</td><td>m1</td><td>VCC-373</td></tr>\n",
       "<tr><td>NGVS-UCD117</td><td>-11.11</td><td>-11.17</td><td>93.67</td><td>2.33</td><td>6.1</td><td>211</td><td>NED</td><td>6</td><td>0</td><td>m1</td><td>--</td></tr>\n",
       "<tr><td>NGVS-UCD182</td><td>-14.09</td><td>-13.32</td><td>70.79</td><td>7.38</td><td>8.4</td><td>6840</td><td>SDSS,NED</td><td>3</td><td>0</td><td>m8</td><td>--</td></tr>\n",
       "<tr><td>NGVS-UCD224</td><td>-14.05</td><td>-13.35</td><td>59.0</td><td>1.16</td><td>8.3</td><td>13663</td><td>VCC,SDSS,NED</td><td>3</td><td>0</td><td>m5</td><td>--</td></tr>\n",
       "<tr><td>NGVS-UCD226</td><td>-11.06</td><td>-11.06</td><td>54.75</td><td>1.32</td><td>5.9</td><td>-3</td><td>SDSS</td><td>6</td><td>0</td><td>m1</td><td>--</td></tr>\n",
       "<tr><td>NGVS-UCD276</td><td>-15.3</td><td>-14.57</td><td>62.09</td><td>4.33</td><td>8.9</td><td>655</td><td>VCC,NED</td><td>2</td><td>0</td><td>m7</td><td>VCC-1146</td></tr>\n",
       "<tr><td>NGVS-UCD278</td><td>-13.12</td><td>-12.38</td><td>80.46</td><td>6.29</td><td>8.0</td><td>1416</td><td>VCC,SDSS,NED</td><td>2</td><td>0</td><td>m1</td><td>VCC-1148</td></tr>\n",
       "<tr><td>...</td><td>...</td><td>...</td><td>...</td><td>...</td><td>...</td><td>...</td><td>...</td><td>...</td><td>...</td><td>...</td><td>...</td></tr>\n",
       "<tr><td>NGVS-UCD568</td><td>-12.19</td><td>-12.24</td><td>55.08</td><td>0.07</td><td>6.5</td><td>1844</td><td>SDSS,NED</td><td>6</td><td>0</td><td>m1</td><td>--</td></tr>\n",
       "<tr><td>NGVS-UCD647</td><td>-12.98</td><td>-12.66</td><td>52.34</td><td>0.99</td><td>6.7</td><td>1139</td><td>VCC,SDSS,NED</td><td>6</td><td>0</td><td>m1</td><td>VCC-1744</td></tr>\n",
       "<tr><td>NGVS-UCD650</td><td>-11.44</td><td>-10.99</td><td>55.66</td><td>1.1</td><td>6.9</td><td>--</td><td>--</td><td>1</td><td>0</td><td>m5</td><td>--</td></tr>\n",
       "<tr><td>NGVS-UCD682</td><td>-12.34</td><td>-11.74</td><td>81.92</td><td>0.63</td><td>7.5</td><td>1977</td><td>VCC,SDSS,NED</td><td>2</td><td>0</td><td>m1</td><td>VCC-1826</td></tr>\n",
       "<tr><td>NGVS-UCD685</td><td>--</td><td>--</td><td>90.3</td><td>1.47</td><td>7.9</td><td>21160</td><td>NED</td><td>3</td><td>0</td><td>m2</td><td>--</td></tr>\n",
       "<tr><td>NGVS-UCD692</td><td>-13.0</td><td>-12.13</td><td>50.23</td><td>0.53</td><td>8.0</td><td>20997</td><td>SDSS,NED</td><td>3</td><td>0</td><td>m6</td><td>--</td></tr>\n",
       "<tr><td>NGVS-UCD726</td><td>-11.22</td><td>-10.76</td><td>53.56</td><td>1.54</td><td>6.8</td><td>--</td><td>--</td><td>3</td><td>0</td><td>m5</td><td>--</td></tr>\n",
       "<tr><td>NGVS-UCD769</td><td>-11.52</td><td>-10.77</td><td>57.99</td><td>0.56</td><td>7.4</td><td>1262</td><td>AAT12</td><td>1</td><td>1</td><td>m1</td><td>--</td></tr>\n",
       "<tr><td>NGVS-UCD799</td><td>--</td><td>--</td><td>54.9</td><td>2.07</td><td>7.6</td><td>15976</td><td>SDSS,NED</td><td>3</td><td>0</td><td>m4</td><td>--</td></tr>\n",
       "</table></div>"
      ],
      "text/plain": [
       "<Table length=23>\n",
       "    Name       MB      MV      rh     e_rh  ... Class Envelope Method  OName  \n",
       "              mag     mag      pc      pc   ...                               \n",
       "   str11    float64 float64 float64 float64 ... int64  int64    str2   str19  \n",
       "----------- ------- ------- ------- ------- ... ----- -------- ------ --------\n",
       " NGVS-UCD10   -11.8  -11.39   65.92    0.72 ...     3        0     m5       --\n",
       " NGVS-UCD43  -11.95  -11.51   52.91    1.22 ...     3        0     m5       --\n",
       " NGVS-UCD93      --      --   91.28    6.85 ...     2        0     m1  VCC-373\n",
       "NGVS-UCD117  -11.11  -11.17   93.67    2.33 ...     6        0     m1       --\n",
       "NGVS-UCD182  -14.09  -13.32   70.79    7.38 ...     3        0     m8       --\n",
       "NGVS-UCD224  -14.05  -13.35    59.0    1.16 ...     3        0     m5       --\n",
       "NGVS-UCD226  -11.06  -11.06   54.75    1.32 ...     6        0     m1       --\n",
       "NGVS-UCD276   -15.3  -14.57   62.09    4.33 ...     2        0     m7 VCC-1146\n",
       "NGVS-UCD278  -13.12  -12.38   80.46    6.29 ...     2        0     m1 VCC-1148\n",
       "        ...     ...     ...     ...     ... ...   ...      ...    ...      ...\n",
       "NGVS-UCD568  -12.19  -12.24   55.08    0.07 ...     6        0     m1       --\n",
       "NGVS-UCD647  -12.98  -12.66   52.34    0.99 ...     6        0     m1 VCC-1744\n",
       "NGVS-UCD650  -11.44  -10.99   55.66     1.1 ...     1        0     m5       --\n",
       "NGVS-UCD682  -12.34  -11.74   81.92    0.63 ...     2        0     m1 VCC-1826\n",
       "NGVS-UCD685      --      --    90.3    1.47 ...     3        0     m2       --\n",
       "NGVS-UCD692   -13.0  -12.13   50.23    0.53 ...     3        0     m6       --\n",
       "NGVS-UCD726  -11.22  -10.76   53.56    1.54 ...     3        0     m5       --\n",
       "NGVS-UCD769  -11.52  -10.77   57.99    0.56 ...     1        1     m1       --\n",
       "NGVS-UCD799      --      --    54.9    2.07 ...     3        0     m4       --"
      ]
     },
     "execution_count": 32,
     "metadata": {},
     "output_type": "execute_result"
    }
   ],
   "source": [
    "# this radius_constraint variable is an array of booleans: the value will be True if the radius is > 50, False if not.\n",
    "# You can print radius_constraint to check.\n",
    "radius_constraint = np.array(radius) > 50\n",
    "\n",
    "# applying the radius constraint to our UCD table is as simple as indexing the radius_constraint variable.\n",
    "# Indexing the radius constraint will spit out a new table of only UCDs with rh > 50 parsecs. Let's save this new table as big_ucds.\n",
    "# Column headers are conserved in the new table.\n",
    "big_ucds = data[radius_constraint]\n",
    "\n",
    "big_ucds"
   ]
  },
  {
   "cell_type": "markdown",
   "id": "10319088",
   "metadata": {},
   "source": [
    "Explicitly, what happened here: we defined an array of booleans called \"radius_constraint\", which was True if the UCD's radius was above 50pc, False if it wasn't. We then applied this constraint to our original table (\"data\"), and saved the cropped table as \"big_ucds\". After printing big_ucds, note that the table length has shrunk dramatically: out of the 828 UCDs we originally had, only 23 have a radius larger than 50 parsecs."
   ]
  },
  {
   "cell_type": "markdown",
   "id": "c9e6c184",
   "metadata": {},
   "source": [
    "### EXERCISE 1\n",
    "\n",
    "Using the provided table ngvs_ucd_tab4.txt:\n",
    "\n",
    "- Compute the B - V color of each UCD, \n",
    "\n",
    "- Identify the reddest UCDs. \n",
    "\n",
    "When thinking about colors, remember that A), colors always subtract a red filter from a blue filter, and B), that smaller = brighter with magnitudes. This can be very confusing - explicitly, a UCD with a large (B-V) color is redder than a UCD with a small (B-V) color. Use -0.3 as the blue/red threshold in this exercise. "
   ]
  },
  {
   "cell_type": "code",
   "execution_count": null,
   "id": "9da2bfd2",
   "metadata": {},
   "outputs": [],
   "source": [
    "### YOUR SOLUTION HERE"
   ]
  },
  {
   "cell_type": "markdown",
   "id": "9bc1490e",
   "metadata": {},
   "source": [
    "### Modifying and writing tables\n",
    "\n",
    "Another important skill is to be able to create and save your own tables. This can be very useful if you wanted to save a copy of your data somewhere to be used later. To create a table, one should initialize a Table object:"
   ]
  },
  {
   "cell_type": "code",
   "execution_count": 28,
   "id": "8d667e6e",
   "metadata": {},
   "outputs": [],
   "source": [
    "mydata = Table()"
   ]
  },
  {
   "cell_type": "markdown",
   "id": "5130912f",
   "metadata": {},
   "source": [
    "Once the Table object has been initialized, one can add columns to it by doing the following:"
   ]
  },
  {
   "cell_type": "code",
   "execution_count": null,
   "id": "2b935d60",
   "metadata": {},
   "outputs": [
    {
     "data": {
      "text/html": [
       "<div><i>Table length=9</i>\n",
       "<table id=\"table140437398183344\" class=\"table-striped table-bordered table-condensed\">\n",
       "<thead><tr><th>column_1</th></tr></thead>\n",
       "<thead><tr><th>int64</th></tr></thead>\n",
       "<tr><td>1</td></tr>\n",
       "<tr><td>2</td></tr>\n",
       "<tr><td>3</td></tr>\n",
       "<tr><td>4</td></tr>\n",
       "<tr><td>5</td></tr>\n",
       "<tr><td>6</td></tr>\n",
       "<tr><td>7</td></tr>\n",
       "<tr><td>8</td></tr>\n",
       "<tr><td>9</td></tr>\n",
       "</table></div>"
      ],
      "text/plain": [
       "<Table length=9>\n",
       "column_1\n",
       " int64  \n",
       "--------\n",
       "       1\n",
       "       2\n",
       "       3\n",
       "       4\n",
       "       5\n",
       "       6\n",
       "       7\n",
       "       8\n",
       "       9"
      ]
     },
     "execution_count": 29,
     "metadata": {},
     "output_type": "execute_result"
    }
   ],
   "source": [
    "mydata['column_1'] = np.arange(1, 10, 1) # adding a column that goes from 1 -> 9\n",
    "mydata"
   ]
  },
  {
   "cell_type": "markdown",
   "id": "b111393f",
   "metadata": {},
   "source": [
    "Here, the string within the square brackets is the column name, and you are assigning np.arange(1, 10, 1) to be the values within the column. \n",
    "\n",
    "We can add more columns by doing the same thing as above, or by using the add_column() routine:"
   ]
  },
  {
   "cell_type": "code",
   "execution_count": null,
   "id": "f9fe0544",
   "metadata": {},
   "outputs": [
    {
     "data": {
      "text/html": [
       "<div><i>Table length=9</i>\n",
       "<table id=\"table140437398183344\" class=\"table-striped table-bordered table-condensed\">\n",
       "<thead><tr><th>column_1</th><th>column_2</th><th>column_3</th></tr></thead>\n",
       "<thead><tr><th>int64</th><th>int64</th><th>int64</th></tr></thead>\n",
       "<tr><td>1</td><td>0</td><td>1</td></tr>\n",
       "<tr><td>2</td><td>0</td><td>1</td></tr>\n",
       "<tr><td>3</td><td>0</td><td>1</td></tr>\n",
       "<tr><td>4</td><td>0</td><td>1</td></tr>\n",
       "<tr><td>5</td><td>0</td><td>1</td></tr>\n",
       "<tr><td>6</td><td>0</td><td>1</td></tr>\n",
       "<tr><td>7</td><td>0</td><td>1</td></tr>\n",
       "<tr><td>8</td><td>0</td><td>1</td></tr>\n",
       "<tr><td>9</td><td>0</td><td>1</td></tr>\n",
       "</table></div>"
      ],
      "text/plain": [
       "<Table length=9>\n",
       "column_1 column_2 column_3\n",
       " int64    int64    int64  \n",
       "-------- -------- --------\n",
       "       1        0        1\n",
       "       2        0        1\n",
       "       3        0        1\n",
       "       4        0        1\n",
       "       5        0        1\n",
       "       6        0        1\n",
       "       7        0        1\n",
       "       8        0        1\n",
       "       9        0        1"
      ]
     },
     "execution_count": 30,
     "metadata": {},
     "output_type": "execute_result"
    }
   ],
   "source": [
    "mydata['column_2'] = np.full(9, 0) # adding a column full of zeroes, calling it \"column_2\"\n",
    "\n",
    "mydata.add_column([1,1,1,1,1,1,1,1,1], name = 'column_3') # adding a column full of 1s, calling it \"column_3\"\n",
    "\n",
    "mydata"
   ]
  },
  {
   "cell_type": "markdown",
   "id": "4555cb51",
   "metadata": {},
   "source": [
    "Similarly, one can remove columns using the .remove_column() routine:"
   ]
  },
  {
   "cell_type": "code",
   "execution_count": null,
   "id": "f608f807",
   "metadata": {},
   "outputs": [
    {
     "data": {
      "text/html": [
       "<div><i>Table length=9</i>\n",
       "<table id=\"table140437398183344\" class=\"table-striped table-bordered table-condensed\">\n",
       "<thead><tr><th>column_1</th><th>column_3</th></tr></thead>\n",
       "<thead><tr><th>int64</th><th>int64</th></tr></thead>\n",
       "<tr><td>1</td><td>1</td></tr>\n",
       "<tr><td>2</td><td>1</td></tr>\n",
       "<tr><td>3</td><td>1</td></tr>\n",
       "<tr><td>4</td><td>1</td></tr>\n",
       "<tr><td>5</td><td>1</td></tr>\n",
       "<tr><td>6</td><td>1</td></tr>\n",
       "<tr><td>7</td><td>1</td></tr>\n",
       "<tr><td>8</td><td>1</td></tr>\n",
       "<tr><td>9</td><td>1</td></tr>\n",
       "</table></div>"
      ],
      "text/plain": [
       "<Table length=9>\n",
       "column_1 column_3\n",
       " int64    int64  \n",
       "-------- --------\n",
       "       1        1\n",
       "       2        1\n",
       "       3        1\n",
       "       4        1\n",
       "       5        1\n",
       "       6        1\n",
       "       7        1\n",
       "       8        1\n",
       "       9        1"
      ]
     },
     "execution_count": 31,
     "metadata": {},
     "output_type": "execute_result"
    }
   ],
   "source": [
    "mydata.remove_column('column_2') # remove column_2\n",
    "mydata"
   ]
  },
  {
   "cell_type": "markdown",
   "id": "bce1a087",
   "metadata": {},
   "source": [
    "Columns can also be replaced, if one calls their header:"
   ]
  },
  {
   "cell_type": "code",
   "execution_count": null,
   "id": "b5d1b6ef",
   "metadata": {},
   "outputs": [
    {
     "data": {
      "text/html": [
       "<div><i>Table length=9</i>\n",
       "<table id=\"table140437398183344\" class=\"table-striped table-bordered table-condensed\">\n",
       "<thead><tr><th>column_1</th><th>column_3</th></tr></thead>\n",
       "<thead><tr><th>int64</th><th>int64</th></tr></thead>\n",
       "<tr><td>1</td><td>3</td></tr>\n",
       "<tr><td>2</td><td>3</td></tr>\n",
       "<tr><td>3</td><td>3</td></tr>\n",
       "<tr><td>4</td><td>3</td></tr>\n",
       "<tr><td>5</td><td>3</td></tr>\n",
       "<tr><td>6</td><td>3</td></tr>\n",
       "<tr><td>7</td><td>3</td></tr>\n",
       "<tr><td>8</td><td>3</td></tr>\n",
       "<tr><td>9</td><td>3</td></tr>\n",
       "</table></div>"
      ],
      "text/plain": [
       "<Table length=9>\n",
       "column_1 column_3\n",
       " int64    int64  \n",
       "-------- --------\n",
       "       1        3\n",
       "       2        3\n",
       "       3        3\n",
       "       4        3\n",
       "       5        3\n",
       "       6        3\n",
       "       7        3\n",
       "       8        3\n",
       "       9        3"
      ]
     },
     "execution_count": 32,
     "metadata": {},
     "output_type": "execute_result"
    }
   ],
   "source": [
    "mydata['column_3'] = np.full(9, 3) # replacing column_3 (originally a column full of 1s) with a column full of 3s\n",
    "mydata"
   ]
  },
  {
   "cell_type": "markdown",
   "id": "3f56fa86",
   "metadata": {},
   "source": [
    "One can also modify individual values in a column:"
   ]
  },
  {
   "cell_type": "code",
   "execution_count": null,
   "id": "3baac2cc",
   "metadata": {},
   "outputs": [
    {
     "data": {
      "text/html": [
       "<div><i>Table length=9</i>\n",
       "<table id=\"table140437398183344\" class=\"table-striped table-bordered table-condensed\">\n",
       "<thead><tr><th>column_1</th><th>column_3</th></tr></thead>\n",
       "<thead><tr><th>int64</th><th>int64</th></tr></thead>\n",
       "<tr><td>1</td><td>5</td></tr>\n",
       "<tr><td>2</td><td>3</td></tr>\n",
       "<tr><td>3</td><td>3</td></tr>\n",
       "<tr><td>4</td><td>3</td></tr>\n",
       "<tr><td>5</td><td>3</td></tr>\n",
       "<tr><td>6</td><td>3</td></tr>\n",
       "<tr><td>7</td><td>3</td></tr>\n",
       "<tr><td>8</td><td>3</td></tr>\n",
       "<tr><td>9</td><td>3</td></tr>\n",
       "</table></div>"
      ],
      "text/plain": [
       "<Table length=9>\n",
       "column_1 column_3\n",
       " int64    int64  \n",
       "-------- --------\n",
       "       1        5\n",
       "       2        3\n",
       "       3        3\n",
       "       4        3\n",
       "       5        3\n",
       "       6        3\n",
       "       7        3\n",
       "       8        3\n",
       "       9        3"
      ]
     },
     "execution_count": 34,
     "metadata": {},
     "output_type": "execute_result"
    }
   ],
   "source": [
    "mydata['column_3'][0] = 5 # change the first row in column_3 to be 5\n",
    "mydata"
   ]
  },
  {
   "cell_type": "markdown",
   "id": "c707ec35",
   "metadata": {},
   "source": [
    "Note: all of the above is just a quick intro to some of the basic modifications you can make to a table. Astropy does have a lot more functionality, and is a lot more powerful than what I've briefly described. To get a better idea of what else you can do...[read the docs!](https://docs.astropy.org/en/stable/table/modify_table.html)\n",
    "\n",
    "Finally, let's save our table. We use the ascii.write() routine to save tables, this works very similarly to saving figures (see Tutorial 3). Within ascii.write, you need to specify the table you want to save, and the directory you want to save the table in. "
   ]
  },
  {
   "cell_type": "code",
   "execution_count": 35,
   "id": "e56b8570",
   "metadata": {},
   "outputs": [],
   "source": [
    "ascii.write(mydata, 'my_first_table.txt')"
   ]
  },
  {
   "cell_type": "markdown",
   "id": "08ce2749",
   "metadata": {},
   "source": [
    "I didn't specify a directory here, so \"my_first_table.txt\" is going to be saved in the same directory as this Python notebook. Some of the most common file extensions for text tables are '.txt', '.dat', and '.csv'. These tables, when written out, can be read into Python wtih ascii.read()."
   ]
  },
  {
   "cell_type": "markdown",
   "id": "03fa4063",
   "metadata": {},
   "source": [
    "### EXERCISE 2\n",
    "\n",
    "Using the provided table ngcs_ucd_tab4.txt:\n",
    "\n",
    "- Delete all columns except for the 'Name' and 'Class' columns.\n",
    "- Find all of the UCDs that are classified with 'Class = 1'.\n",
    "- Make a new column full of 'yes' or 'no': if the UCD is 'Class = 1', it's 'yes', otherwise it's 'no'.\n",
    "    - There are several ways to do this!\n",
    "- Save the new modified table as \"true_UCDs.txt\"."
   ]
  },
  {
   "cell_type": "code",
   "execution_count": null,
   "id": "23eb7037",
   "metadata": {},
   "outputs": [],
   "source": [
    "## YOUR SOLUTION HERE"
   ]
  }
 ],
 "metadata": {
  "kernelspec": {
   "display_name": "base",
   "language": "python",
   "name": "python3"
  },
  "language_info": {
   "codemirror_mode": {
    "name": "ipython",
    "version": 3
   },
   "file_extension": ".py",
   "mimetype": "text/x-python",
   "name": "python",
   "nbconvert_exporter": "python",
   "pygments_lexer": "ipython3",
   "version": "3.10.9"
  }
 },
 "nbformat": 4,
 "nbformat_minor": 5
}
